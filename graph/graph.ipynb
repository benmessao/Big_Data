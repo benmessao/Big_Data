{
 "cells": [
  {
   "cell_type": "code",
   "execution_count": 8,
   "metadata": {},
   "outputs": [],
   "source": [
    "from neo4j import GraphDatabase, basic_auth\n",
    "driver = GraphDatabase.driver(\"bolt://localhost:7687\", auth=basic_auth(\"neo4j\", \"123456789\"))"
   ]
  },
  {
   "cell_type": "code",
   "execution_count": 2,
   "metadata": {},
   "outputs": [
    {
     "data": {
      "text/html": [
       "<div>\n",
       "<style scoped>\n",
       "    .dataframe tbody tr th:only-of-type {\n",
       "        vertical-align: middle;\n",
       "    }\n",
       "\n",
       "    .dataframe tbody tr th {\n",
       "        vertical-align: top;\n",
       "    }\n",
       "\n",
       "    .dataframe thead th {\n",
       "        text-align: right;\n",
       "    }\n",
       "</style>\n",
       "<table border=\"1\" class=\"dataframe\">\n",
       "  <thead>\n",
       "    <tr style=\"text-align: right;\">\n",
       "      <th></th>\n",
       "      <th>Series_Title</th>\n",
       "      <th>Released_Year</th>\n",
       "      <th>IMDB_Rating</th>\n",
       "      <th>Director</th>\n",
       "      <th>Star1</th>\n",
       "      <th>Star2</th>\n",
       "      <th>Star3</th>\n",
       "      <th>Star4</th>\n",
       "      <th>No_of_Votes</th>\n",
       "    </tr>\n",
       "  </thead>\n",
       "  <tbody>\n",
       "    <tr>\n",
       "      <th>0</th>\n",
       "      <td>The Shawshank Redemption</td>\n",
       "      <td>1994</td>\n",
       "      <td>9.3</td>\n",
       "      <td>Frank Darabont</td>\n",
       "      <td>Tim Robbins</td>\n",
       "      <td>Morgan Freeman</td>\n",
       "      <td>Bob Gunton</td>\n",
       "      <td>William Sadler</td>\n",
       "      <td>2343110</td>\n",
       "    </tr>\n",
       "    <tr>\n",
       "      <th>1</th>\n",
       "      <td>The Godfather</td>\n",
       "      <td>1972</td>\n",
       "      <td>9.2</td>\n",
       "      <td>Francis Ford Coppola</td>\n",
       "      <td>Marlon Brando</td>\n",
       "      <td>Al Pacino</td>\n",
       "      <td>James Caan</td>\n",
       "      <td>Diane Keaton</td>\n",
       "      <td>1620367</td>\n",
       "    </tr>\n",
       "    <tr>\n",
       "      <th>2</th>\n",
       "      <td>The Dark Knight</td>\n",
       "      <td>2008</td>\n",
       "      <td>9.0</td>\n",
       "      <td>Christopher Nolan</td>\n",
       "      <td>Christian Bale</td>\n",
       "      <td>Heath Ledger</td>\n",
       "      <td>Aaron Eckhart</td>\n",
       "      <td>Michael Caine</td>\n",
       "      <td>2303232</td>\n",
       "    </tr>\n",
       "    <tr>\n",
       "      <th>3</th>\n",
       "      <td>The Godfather: Part II</td>\n",
       "      <td>1974</td>\n",
       "      <td>9.0</td>\n",
       "      <td>Francis Ford Coppola</td>\n",
       "      <td>Al Pacino</td>\n",
       "      <td>Robert De Niro</td>\n",
       "      <td>Robert Duvall</td>\n",
       "      <td>Diane Keaton</td>\n",
       "      <td>1129952</td>\n",
       "    </tr>\n",
       "    <tr>\n",
       "      <th>4</th>\n",
       "      <td>12 Angry Men</td>\n",
       "      <td>1957</td>\n",
       "      <td>9.0</td>\n",
       "      <td>Sidney Lumet</td>\n",
       "      <td>Henry Fonda</td>\n",
       "      <td>Lee J. Cobb</td>\n",
       "      <td>Martin Balsam</td>\n",
       "      <td>John Fiedler</td>\n",
       "      <td>689845</td>\n",
       "    </tr>\n",
       "  </tbody>\n",
       "</table>\n",
       "</div>"
      ],
      "text/plain": [
       "               Series_Title Released_Year  IMDB_Rating              Director  \\\n",
       "0  The Shawshank Redemption          1994          9.3        Frank Darabont   \n",
       "1             The Godfather          1972          9.2  Francis Ford Coppola   \n",
       "2           The Dark Knight          2008          9.0     Christopher Nolan   \n",
       "3    The Godfather: Part II          1974          9.0  Francis Ford Coppola   \n",
       "4              12 Angry Men          1957          9.0          Sidney Lumet   \n",
       "\n",
       "            Star1           Star2          Star3           Star4  No_of_Votes  \n",
       "0     Tim Robbins  Morgan Freeman     Bob Gunton  William Sadler      2343110  \n",
       "1   Marlon Brando       Al Pacino     James Caan    Diane Keaton      1620367  \n",
       "2  Christian Bale    Heath Ledger  Aaron Eckhart   Michael Caine      2303232  \n",
       "3       Al Pacino  Robert De Niro  Robert Duvall    Diane Keaton      1129952  \n",
       "4     Henry Fonda     Lee J. Cobb  Martin Balsam    John Fiedler       689845  "
      ]
     },
     "execution_count": 2,
     "metadata": {},
     "output_type": "execute_result"
    }
   ],
   "source": [
    "import pandas as pd\n",
    "imdb = pd.read_csv('resources/imdb.csv')\n",
    "imdb.head()"
   ]
  },
  {
   "cell_type": "code",
   "execution_count": 9,
   "metadata": {},
   "outputs": [],
   "source": [
    "cypher_query = '''\n",
    "MERGE (m:Movie {id: $id, title: $title, year: $year, rating: $rating, votes: $votes})\n",
    "MERGE (d:Director {name: $director})\n",
    "MERGE (d)-[:HAS_DIRECTED]->(m)\n",
    "MERGE (a1:Actor {name: $star1})\n",
    "MERGE (a2:Actor {name: $star2})\n",
    "MERGE (a3:Actor {name: $star3})\n",
    "MERGE (a4:Actor {name: $star4})\n",
    "MERGE (a1)-[:HAS_ACTED_IN]->(m)\n",
    "MERGE (a2)-[:HAS_ACTED_IN]->(m)\n",
    "MERGE (a3)-[:HAS_ACTED_IN]->(m)\n",
    "MERGE (a4)-[:HAS_ACTED_IN]->(m)\n",
    "'''"
   ]
  },
  {
   "cell_type": "code",
   "execution_count": 10,
   "metadata": {},
   "outputs": [],
   "source": [
    "def create_movie(tx, id, title, year, rating, votes, director, star1, star2, star3, star4):\n",
    "    tx.run(cypher_query, id = id, title = title, year = year,\n",
    "    rating =  rating, votes = votes, director = director,\n",
    "    star1 = star1, star2 = star2, star3 = star3, star4 = star4)"
   ]
  },
  {
   "cell_type": "code",
   "execution_count": 11,
   "metadata": {},
   "outputs": [
    {
     "name": "stderr",
     "output_type": "stream",
     "text": [
      "/tmp/ipykernel_128071/3107879703.py:13: DeprecationWarning: write_transaction has been renamed to execute_write\n",
      "  session.write_transaction(create_movie, id, title, year,\n"
     ]
    }
   ],
   "source": [
    "with driver.session(database=\"neo4j\") as session:\n",
    "    for i, row in imdb.iterrows():\n",
    "        id = i\n",
    "        title = row['Series_Title']\n",
    "        year = row['Released_Year']\n",
    "        rating = row['IMDB_Rating']\n",
    "        votes = row['No_of_Votes']\n",
    "        director = row['Director']\n",
    "        star1 = row['Star1']\n",
    "        star2 = row['Star2']\n",
    "        star3 = row['Star3']\n",
    "        star4 = row['Star4']\n",
    "        session.write_transaction(create_movie, id, title, year,\n",
    "        rating, votes, director, star1, star2, star3, star4)\n",
    "\n",
    "driver.close()"
   ]
  },
  {
   "attachments": {},
   "cell_type": "markdown",
   "metadata": {},
   "source": [
    "10 movies with most votes"
   ]
  },
  {
   "cell_type": "code",
   "execution_count": 12,
   "metadata": {},
   "outputs": [
    {
     "name": "stderr",
     "output_type": "stream",
     "text": [
      "/tmp/ipykernel_128071/2369182999.py:12: DeprecationWarning: read_transaction has been renamed to execute_read\n",
      "  res = session.read_transaction(get_result)\n"
     ]
    },
    {
     "data": {
      "text/html": [
       "<div>\n",
       "<style scoped>\n",
       "    .dataframe tbody tr th:only-of-type {\n",
       "        vertical-align: middle;\n",
       "    }\n",
       "\n",
       "    .dataframe tbody tr th {\n",
       "        vertical-align: top;\n",
       "    }\n",
       "\n",
       "    .dataframe thead th {\n",
       "        text-align: right;\n",
       "    }\n",
       "</style>\n",
       "<table border=\"1\" class=\"dataframe\">\n",
       "  <thead>\n",
       "    <tr style=\"text-align: right;\">\n",
       "      <th></th>\n",
       "      <th>m.title</th>\n",
       "      <th>m.votes</th>\n",
       "      <th>m.rating</th>\n",
       "    </tr>\n",
       "  </thead>\n",
       "  <tbody>\n",
       "    <tr>\n",
       "      <th>0</th>\n",
       "      <td>The Shawshank Redemption</td>\n",
       "      <td>2343110</td>\n",
       "      <td>9.3</td>\n",
       "    </tr>\n",
       "    <tr>\n",
       "      <th>1</th>\n",
       "      <td>The Dark Knight</td>\n",
       "      <td>2303232</td>\n",
       "      <td>9.0</td>\n",
       "    </tr>\n",
       "    <tr>\n",
       "      <th>2</th>\n",
       "      <td>Inception</td>\n",
       "      <td>2067042</td>\n",
       "      <td>8.8</td>\n",
       "    </tr>\n",
       "    <tr>\n",
       "      <th>3</th>\n",
       "      <td>Fight Club</td>\n",
       "      <td>1854740</td>\n",
       "      <td>8.8</td>\n",
       "    </tr>\n",
       "    <tr>\n",
       "      <th>4</th>\n",
       "      <td>Pulp Fiction</td>\n",
       "      <td>1826188</td>\n",
       "      <td>8.9</td>\n",
       "    </tr>\n",
       "    <tr>\n",
       "      <th>5</th>\n",
       "      <td>Forrest Gump</td>\n",
       "      <td>1809221</td>\n",
       "      <td>8.8</td>\n",
       "    </tr>\n",
       "    <tr>\n",
       "      <th>6</th>\n",
       "      <td>The Matrix</td>\n",
       "      <td>1676426</td>\n",
       "      <td>8.7</td>\n",
       "    </tr>\n",
       "    <tr>\n",
       "      <th>7</th>\n",
       "      <td>The Lord of the Rings: The Fellowship of the Ring</td>\n",
       "      <td>1661481</td>\n",
       "      <td>8.8</td>\n",
       "    </tr>\n",
       "    <tr>\n",
       "      <th>8</th>\n",
       "      <td>The Lord of the Rings: The Return of the King</td>\n",
       "      <td>1642758</td>\n",
       "      <td>8.9</td>\n",
       "    </tr>\n",
       "    <tr>\n",
       "      <th>9</th>\n",
       "      <td>The Godfather</td>\n",
       "      <td>1620367</td>\n",
       "      <td>9.2</td>\n",
       "    </tr>\n",
       "  </tbody>\n",
       "</table>\n",
       "</div>"
      ],
      "text/plain": [
       "                                             m.title  m.votes  m.rating\n",
       "0                           The Shawshank Redemption  2343110       9.3\n",
       "1                                    The Dark Knight  2303232       9.0\n",
       "2                                          Inception  2067042       8.8\n",
       "3                                         Fight Club  1854740       8.8\n",
       "4                                       Pulp Fiction  1826188       8.9\n",
       "5                                       Forrest Gump  1809221       8.8\n",
       "6                                         The Matrix  1676426       8.7\n",
       "7  The Lord of the Rings: The Fellowship of the Ring  1661481       8.8\n",
       "8      The Lord of the Rings: The Return of the King  1642758       8.9\n",
       "9                                      The Godfather  1620367       9.2"
      ]
     },
     "execution_count": 12,
     "metadata": {},
     "output_type": "execute_result"
    }
   ],
   "source": [
    "cypher_query = '''\n",
    "MATCH (m:Movie)\n",
    "RETURN m.title, m.votes, m.rating\n",
    "ORDER BY m.votes DESC\n",
    "LIMIT 10'''\n",
    "\n",
    "def get_result(tx):\n",
    "    result = tx.run(cypher_query).data()\n",
    "    return result\n",
    "\n",
    "with driver.session(database=\"neo4j\") as session:\n",
    "    res = session.read_transaction(get_result)\n",
    "driver.close()\n",
    "\n",
    "res = pd.DataFrame(res)\n",
    "res"
   ]
  },
  {
   "attachments": {},
   "cell_type": "markdown",
   "metadata": {},
   "source": [
    "3 best rated movies in whcih Elijah Wood has acted"
   ]
  },
  {
   "cell_type": "code",
   "execution_count": 15,
   "metadata": {},
   "outputs": [
    {
     "name": "stderr",
     "output_type": "stream",
     "text": [
      "/tmp/ipykernel_128071/175357235.py:9: DeprecationWarning: read_transaction has been renamed to execute_read\n",
      "  res = session.read_transaction(get_result)\n"
     ]
    },
    {
     "data": {
      "text/html": [
       "<div>\n",
       "<style scoped>\n",
       "    .dataframe tbody tr th:only-of-type {\n",
       "        vertical-align: middle;\n",
       "    }\n",
       "\n",
       "    .dataframe tbody tr th {\n",
       "        vertical-align: top;\n",
       "    }\n",
       "\n",
       "    .dataframe thead th {\n",
       "        text-align: right;\n",
       "    }\n",
       "</style>\n",
       "<table border=\"1\" class=\"dataframe\">\n",
       "  <thead>\n",
       "    <tr style=\"text-align: right;\">\n",
       "      <th></th>\n",
       "      <th>m.title</th>\n",
       "      <th>m.year</th>\n",
       "      <th>m.rating</th>\n",
       "    </tr>\n",
       "  </thead>\n",
       "  <tbody>\n",
       "    <tr>\n",
       "      <th>0</th>\n",
       "      <td>The Lord of the Rings: The Return of the King</td>\n",
       "      <td>2003</td>\n",
       "      <td>8.9</td>\n",
       "    </tr>\n",
       "    <tr>\n",
       "      <th>1</th>\n",
       "      <td>The Lord of the Rings: The Fellowship of the Ring</td>\n",
       "      <td>2001</td>\n",
       "      <td>8.8</td>\n",
       "    </tr>\n",
       "    <tr>\n",
       "      <th>2</th>\n",
       "      <td>The Lord of the Rings: The Two Towers</td>\n",
       "      <td>2002</td>\n",
       "      <td>8.7</td>\n",
       "    </tr>\n",
       "  </tbody>\n",
       "</table>\n",
       "</div>"
      ],
      "text/plain": [
       "                                             m.title m.year  m.rating\n",
       "0      The Lord of the Rings: The Return of the King   2003       8.9\n",
       "1  The Lord of the Rings: The Fellowship of the Ring   2001       8.8\n",
       "2              The Lord of the Rings: The Two Towers   2002       8.7"
      ]
     },
     "execution_count": 15,
     "metadata": {},
     "output_type": "execute_result"
    }
   ],
   "source": [
    "cypher_query = '''\n",
    "MATCH (m:Movie)<-[:HAS_ACTED_IN]-(a:Actor)\n",
    "WHERE a.name = \"Elijah Wood\"\n",
    "RETURN m.title, m.year, m.rating\n",
    "ORDER BY m.rating DESC\n",
    "LIMIT 3'''\n",
    "\n",
    "with driver.session(database=\"neo4j\") as session:\n",
    "    res = session.read_transaction(get_result)\n",
    "driver.close()\n",
    "res = pd.DataFrame(res)\n",
    "res"
   ]
  },
  {
   "attachments": {},
   "cell_type": "markdown",
   "metadata": {},
   "source": [
    "## Début du TD sur les graphes"
   ]
  },
  {
   "attachments": {},
   "cell_type": "markdown",
   "metadata": {},
   "source": [
    "Read files"
   ]
  },
  {
   "cell_type": "code",
   "execution_count": 22,
   "metadata": {},
   "outputs": [],
   "source": [
    "edges = pd.read_csv('resources/stackoverflow_edges.csv', header=0)\n",
    "nodes = pd.read_csv('resources/stackoverflow_nodes.csv', header=0)"
   ]
  },
  {
   "cell_type": "code",
   "execution_count": 23,
   "metadata": {},
   "outputs": [
    {
     "data": {
      "text/html": [
       "<div>\n",
       "<style scoped>\n",
       "    .dataframe tbody tr th:only-of-type {\n",
       "        vertical-align: middle;\n",
       "    }\n",
       "\n",
       "    .dataframe tbody tr th {\n",
       "        vertical-align: top;\n",
       "    }\n",
       "\n",
       "    .dataframe thead th {\n",
       "        text-align: right;\n",
       "    }\n",
       "</style>\n",
       "<table border=\"1\" class=\"dataframe\">\n",
       "  <thead>\n",
       "    <tr style=\"text-align: right;\">\n",
       "      <th></th>\n",
       "      <th>source</th>\n",
       "      <th>target</th>\n",
       "      <th>weight</th>\n",
       "    </tr>\n",
       "  </thead>\n",
       "  <tbody>\n",
       "    <tr>\n",
       "      <th>0</th>\n",
       "      <td>azure</td>\n",
       "      <td>.net</td>\n",
       "      <td>20.933192</td>\n",
       "    </tr>\n",
       "    <tr>\n",
       "      <th>1</th>\n",
       "      <td>sql-server</td>\n",
       "      <td>.net</td>\n",
       "      <td>32.322524</td>\n",
       "    </tr>\n",
       "    <tr>\n",
       "      <th>2</th>\n",
       "      <td>asp.net</td>\n",
       "      <td>.net</td>\n",
       "      <td>48.407030</td>\n",
       "    </tr>\n",
       "    <tr>\n",
       "      <th>3</th>\n",
       "      <td>entity-framework</td>\n",
       "      <td>.net</td>\n",
       "      <td>24.370903</td>\n",
       "    </tr>\n",
       "    <tr>\n",
       "      <th>4</th>\n",
       "      <td>wpf</td>\n",
       "      <td>.net</td>\n",
       "      <td>32.350925</td>\n",
       "    </tr>\n",
       "  </tbody>\n",
       "</table>\n",
       "</div>"
      ],
      "text/plain": [
       "             source target     weight\n",
       "0             azure   .net  20.933192\n",
       "1        sql-server   .net  32.322524\n",
       "2           asp.net   .net  48.407030\n",
       "3  entity-framework   .net  24.370903\n",
       "4               wpf   .net  32.350925"
      ]
     },
     "execution_count": 23,
     "metadata": {},
     "output_type": "execute_result"
    }
   ],
   "source": [
    "edges.head()"
   ]
  },
  {
   "cell_type": "code",
   "execution_count": 24,
   "metadata": {},
   "outputs": [
    {
     "data": {
      "text/html": [
       "<div>\n",
       "<style scoped>\n",
       "    .dataframe tbody tr th:only-of-type {\n",
       "        vertical-align: middle;\n",
       "    }\n",
       "\n",
       "    .dataframe tbody tr th {\n",
       "        vertical-align: top;\n",
       "    }\n",
       "\n",
       "    .dataframe thead th {\n",
       "        text-align: right;\n",
       "    }\n",
       "</style>\n",
       "<table border=\"1\" class=\"dataframe\">\n",
       "  <thead>\n",
       "    <tr style=\"text-align: right;\">\n",
       "      <th></th>\n",
       "      <th>name</th>\n",
       "    </tr>\n",
       "  </thead>\n",
       "  <tbody>\n",
       "    <tr>\n",
       "      <th>0</th>\n",
       "      <td>html</td>\n",
       "    </tr>\n",
       "    <tr>\n",
       "      <th>1</th>\n",
       "      <td>css</td>\n",
       "    </tr>\n",
       "    <tr>\n",
       "      <th>2</th>\n",
       "      <td>hibernate</td>\n",
       "    </tr>\n",
       "    <tr>\n",
       "      <th>3</th>\n",
       "      <td>spring</td>\n",
       "    </tr>\n",
       "    <tr>\n",
       "      <th>4</th>\n",
       "      <td>ruby</td>\n",
       "    </tr>\n",
       "  </tbody>\n",
       "</table>\n",
       "</div>"
      ],
      "text/plain": [
       "        name\n",
       "0       html\n",
       "1        css\n",
       "2  hibernate\n",
       "3     spring\n",
       "4       ruby"
      ]
     },
     "execution_count": 24,
     "metadata": {},
     "output_type": "execute_result"
    }
   ],
   "source": [
    "nodes.head()"
   ]
  },
  {
   "attachments": {},
   "cell_type": "markdown",
   "metadata": {},
   "source": [
    "Create DataBase"
   ]
  },
  {
   "cell_type": "code",
   "execution_count": 25,
   "metadata": {},
   "outputs": [],
   "source": [
    "driver = GraphDatabase.driver(\"bolt://localhost:7687\", auth=basic_auth(\"neo4j\", \"pass4database\"))"
   ]
  },
  {
   "attachments": {},
   "cell_type": "markdown",
   "metadata": {},
   "source": [
    "Nodes"
   ]
  },
  {
   "cell_type": "code",
   "execution_count": 27,
   "metadata": {},
   "outputs": [
    {
     "name": "stderr",
     "output_type": "stream",
     "text": [
      "/tmp/ipykernel_128071/157597023.py:12: DeprecationWarning: write_transaction has been renamed to execute_write\n",
      "  session.write_transaction(create_nodes, tag, name)\n"
     ]
    }
   ],
   "source": [
    "cypher_query = '''\n",
    "MERGE (n:Node {tag: $tag, name: $name})\n",
    "'''\n",
    "\n",
    "def create_nodes(tx, tag, name):\n",
    "    tx.run(cypher_query, tag = tag, name = name)\n",
    "\n",
    "with driver.session(database=\"neo4j\") as session:\n",
    "    for i, row in nodes.iterrows():\n",
    "        tag = i\n",
    "        name = row['name']\n",
    "        session.write_transaction(create_nodes, tag, name)\n",
    "\n",
    "driver.close()"
   ]
  },
  {
   "attachments": {},
   "cell_type": "markdown",
   "metadata": {},
   "source": [
    "Edges"
   ]
  },
  {
   "attachments": {},
   "cell_type": "markdown",
   "metadata": {},
   "source": [
    "https://neo4j.com/docs/cypher-manual/current/clauses/create/"
   ]
  },
  {
   "cell_type": "code",
   "execution_count": 29,
   "metadata": {},
   "outputs": [
    {
     "name": "stderr",
     "output_type": "stream",
     "text": [
      "/tmp/ipykernel_128071/2981543972.py:14: DeprecationWarning: write_transaction has been renamed to execute_write\n",
      "  session.write_transaction(create_nodes, source, target)\n"
     ]
    }
   ],
   "source": [
    "cypher_query_edges = '''\n",
    "MATCH\n",
    "  (a:Node),\n",
    "  (b:Node)\n",
    "WHERE a.name = 'A' AND b.name = 'B'\n",
    "CREATE (a)-[r:RELTYPE]->(b)\n",
    "RETURN type(r)\n",
    "'''\n",
    "\n",
    "def create_edges(tx, source, target):\n",
    "    tx.run(cypher_query_edges, source = source, target = target)\n",
    "\n",
    "with driver.session(database=\"neo4j\") as session:\n",
    "    for i, row in edges.iterrows():\n",
    "        tag = i\n",
    "        source = row['source']\n",
    "        target = row['target']\n",
    "        session.write_transaction(create_nodes, source, target)\n",
    "\n",
    "driver.close()"
   ]
  }
 ],
 "metadata": {
  "kernelspec": {
   "display_name": "Python 3",
   "language": "python",
   "name": "python3"
  },
  "language_info": {
   "codemirror_mode": {
    "name": "ipython",
    "version": 3
   },
   "file_extension": ".py",
   "mimetype": "text/x-python",
   "name": "python",
   "nbconvert_exporter": "python",
   "pygments_lexer": "ipython3",
   "version": "3.8.10"
  },
  "orig_nbformat": 4,
  "vscode": {
   "interpreter": {
    "hash": "31f2aee4e71d21fbe5cf8b01ff0e069b9275f58929596ceb00d14d90e3e16cd6"
   }
  }
 },
 "nbformat": 4,
 "nbformat_minor": 2
}
